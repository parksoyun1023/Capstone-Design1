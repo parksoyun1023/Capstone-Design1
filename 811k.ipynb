{
 "cells": [
  {
   "cell_type": "code",
   "execution_count": 1,
   "metadata": {},
   "outputs": [
    {
     "name": "stdout",
     "output_type": "stream",
     "text": [
      "파일이 D:\\wafer_anal_prj\\extracted_files에 압축 풀렸습니다.\n"
     ]
    }
   ],
   "source": [
    "import zipfile\n",
    "import os\n",
    "\n",
    "# 파일 경로 설정\n",
    "zip_file_path = r'D:\\wafer_anal_prj\\LSWMD.pkl.zip'\n",
    "extract_dir = r'D:\\wafer_anal_prj\\extracted_files'  # 압축을 풀 위치 설정\n",
    "\n",
    "# zip 파일 압축 풀기\n",
    "with zipfile.ZipFile(zip_file_path, 'r') as zip_ref:\n",
    "    zip_ref.extractall(extract_dir)\n",
    "\n",
    "print(f\"파일이 {extract_dir}에 압축 풀렸습니다.\")\n"
   ]
  },
  {
   "cell_type": "code",
   "execution_count": 7,
   "metadata": {},
   "outputs": [
    {
     "name": "stdout",
     "output_type": "stream",
     "text": [
      "데이터가 성공적으로 로드되었습니다.\n",
      "                                            waferMap  dieSize lotName  \\\n",
      "0  [[0, 0, 0, 0, 0, 0, 0, 0, 0, 0, 0, 0, 0, 0, 0,...   1683.0    lot1   \n",
      "1  [[0, 0, 0, 0, 0, 0, 0, 0, 0, 0, 0, 0, 0, 0, 0,...   1683.0    lot1   \n",
      "2  [[0, 0, 0, 0, 0, 0, 0, 0, 0, 0, 0, 0, 0, 0, 0,...   1683.0    lot1   \n",
      "3  [[0, 0, 0, 0, 0, 0, 0, 0, 0, 0, 0, 0, 0, 0, 0,...   1683.0    lot1   \n",
      "4  [[0, 0, 0, 0, 0, 0, 0, 0, 0, 0, 0, 0, 0, 0, 0,...   1683.0    lot1   \n",
      "\n",
      "   waferIndex trianTestLabel failureType  \n",
      "0         1.0   [[Training]]    [[none]]  \n",
      "1         2.0   [[Training]]    [[none]]  \n",
      "2         3.0   [[Training]]    [[none]]  \n",
      "3         4.0   [[Training]]    [[none]]  \n",
      "4         5.0   [[Training]]    [[none]]  \n"
     ]
    }
   ],
   "source": [
    "import os\n",
    "import pickle\n",
    "\n",
    "import sys\n",
    "import pandas as pd\n",
    "sys.modules['pandas.indexes'] = pd.core.indexes\n",
    "\n",
    "# 실제 디렉토리 경로 설정\n",
    "extract_dir = 'D:/wafer_anal_prj/extracted_files'  # 실제 경로로 변경\n",
    "\n",
    "# pkl 파일 경로 설정\n",
    "pkl_file_path = os.path.join(extract_dir, 'LSWMD.pkl')\n",
    "\n",
    "# 파일 경로 확인\n",
    "if not os.path.exists(pkl_file_path):\n",
    "    raise FileNotFoundError(f\"파일을 찾을 수 없습니다: {pkl_file_path}\")\n",
    "\n",
    "# pkl 파일 로드\n",
    "with open(pkl_file_path, 'rb') as file:\n",
    "    data = pickle.load(file, encoding=\"latin1\")  # encoding을 latin1로 변경\n",
    "\n",
    "print(\"데이터가 성공적으로 로드되었습니다.\")\n",
    "print(data.head())  # 데이터의 처음 몇 줄 확인"
   ]
  },
  {
   "cell_type": "code",
   "execution_count": 1,
   "metadata": {},
   "outputs": [],
   "source": [
    "import pandas as pd\n"
   ]
  },
  {
   "cell_type": "code",
   "execution_count": 3,
   "metadata": {},
   "outputs": [],
   "source": [
    "import sys\n",
    "import pandas as pd\n",
    "sys.modules['pandas.indexes'] = pd.core.indexes"
   ]
  }
 ],
 "metadata": {
  "kernelspec": {
   "display_name": "old_env",
   "language": "python",
   "name": "python3"
  },
  "language_info": {
   "codemirror_mode": {
    "name": "ipython",
    "version": 3
   },
   "file_extension": ".py",
   "mimetype": "text/x-python",
   "name": "python",
   "nbconvert_exporter": "python",
   "pygments_lexer": "ipython3",
   "version": "3.8.20"
  }
 },
 "nbformat": 4,
 "nbformat_minor": 2
}
